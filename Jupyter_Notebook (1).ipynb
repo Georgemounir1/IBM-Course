{
 "cells": [
  {
   "cell_type": "markdown",
   "metadata": {},
   "source": [
    "<center>\n",
    "    <img src=\"https://s3-api.us-geo.objectstorage.softlayer.net/cf-courses-data/CognitiveClass/Logos/organization_logo/organization_logo.png\" width=\"300\" alt=\"cognitiveclass.ai logo\"  />\n",
    "</center>\n"
   ]
  },
  {
   "cell_type": "markdown",
   "metadata": {},
   "source": [
    "#### Add your code below following the instructions given in the course\n"
   ]
  },
  {
   "cell_type": "markdown",
   "metadata": {},
   "source": [
    "<div>\n",
    "    <h1 style=\"color:blue\">My Jupyter Notebook on IBM Watson Studio</h1>\n",
    "    <h3>Week 4 </h3>\n",
    "</div>"
   ]
  },
  {
   "cell_type": "markdown",
   "metadata": {},
   "source": [
    "<div>\n",
    "    <strong>Hello, I am George</strong>\n",
    "    <p>I am Looking for a Job In a Dynamic Field Like Data Analysis & science and I Hope IBM Courses Help Me to Get Job as a Practical Side as Like That Courses Help Me in Knowldge and Practical Side</p>\n",
    "</div>"
   ]
  },
  {
   "cell_type": "markdown",
   "metadata": {},
   "source": [
    "<div><i>as a Fast Growing Field There Are Many Opprtunties to Hunt Before It's Get crowded so Let's Do It Together. <br>Imagine How Can Millions of Unorgnized cleaned Data After Some ETL , Analysis and Vizulaization Give us This Usefull Informations , Relations and Ratios.</i></div>"
   ]
  },
  {
   "cell_type": "markdown",
   "metadata": {},
   "source": [
    "<div><h3>the Folowing Cell Will output \"We Love IBM and Coursera.\"</h3></div>"
   ]
  },
  {
   "cell_type": "code",
   "execution_count": 1,
   "metadata": {},
   "outputs": [
    {
     "name": "stdout",
     "output_type": "stream",
     "text": [
      "We Love IBM and Coursera.\n"
     ]
    }
   ],
   "source": [
    "Thanks=\"We Love IBM and Coursera.\"\n",
    "print(Thanks)"
   ]
  },
  {
   "cell_type": "markdown",
   "metadata": {},
   "source": [
    "<div>\n",
    "    <ul>\n",
    "        <h5>What Is Next After Finish This Course?</h5>\n",
    "        <hr>\n",
    "        <li>1. Practice More on Watson Studio </li> \n",
    "        <li>2. Share My Projects and Certificate </li> \n",
    "        <li>3. I Go for SQL</li> \n",
    "    </ul>\n",
    "    <hr>\n",
    "    <div>\n",
    "    <h4>Watson Studio Notebook Link : <a href=\"https://eu-de.dataplatform.cloud.ibm.com/analytics/notebooks/v2/787b0f04-ecb5-4bed-80cf-72c33a24e9e4/view?access_token=7f5935a571eec28547a51d36ed4382bf6329bc9a8d666e1945cdcbdf65147c66\">Check It</a></h4></div>\n",
    "    <blockquote>Thank You All Instructors That Was Really Easy.</blockquote>\n",
    "    </div>\n",
    "    <div>\n",
    "    George Beshai   <br>\n",
    "Github Link : https://github.com/Georgemounir1\n",
    "\n",
    "LinkedIn Link : https://www.linkedin.com/in/george-mounir-8b5bab164/\n",
    "\n",
    "Kaggle Link : https://www.kaggle.com/georgemounir82\n",
    "\n",
    "Whatsapp : https://wa.me/+201282016305\n",
    "    </div>"
   ]
  }
 ],
 "metadata": {
  "kernelspec": {
   "display_name": "Python",
   "language": "python",
   "name": "conda-env-python-py"
  },
  "language_info": {
   "codemirror_mode": {
    "name": "ipython",
    "version": 3
   },
   "file_extension": ".py",
   "mimetype": "text/x-python",
   "name": "python",
   "nbconvert_exporter": "python",
   "pygments_lexer": "ipython3",
   "version": "3.7.12"
  }
 },
 "nbformat": 4,
 "nbformat_minor": 4
}
